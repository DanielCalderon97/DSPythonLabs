{
 "cells": [
  {
   "cell_type": "markdown",
   "metadata": {},
   "source": [
    "# Laboratorio 3\n",
    "##### Daniel Calderon - 24000152"
   ]
  },
  {
   "cell_type": "markdown",
   "metadata": {},
   "source": [
    "###### 1.\tCree un procedimiento en Python dado un nu´mero entero en decimal despliegue su represen- taci´on en nu´mero binario."
   ]
  },
  {
   "cell_type": "code",
   "execution_count": null,
   "metadata": {},
   "outputs": [
    {
     "name": "stdout",
     "output_type": "stream",
     "text": [
      "101101\n"
     ]
    }
   ],
   "source": [
    "#Primero definimos la función que convierte un número decimal a binario\n",
    "#La función decimal_to_binary recibe un número entero como argumento\n",
    "def decimal_to_binary(numero):\n",
    "    if numero == 0: #Si el número es 0, se devuelve '0'\n",
    "        return '0'\n",
    "    #Se inicializa una cadena de texto vacía\n",
    "    binario = ''\n",
    "    while numero > 0:\n",
    "        residuo = numero % 2 #Mientras el número sea mayor a 0, se obtiene el residuo de dividir el número entre 2\n",
    "        binario = str(residuo) + binario #Se convierte el residuo a cadena de texto y se concatena al principio de la cadena binario\n",
    "        numero = numero // 2 #Se actualiza el número dividiéndolo entre 2\n",
    "    return binario #Se devuelve la cadena binario que contiene la representación binaria del número\n",
    "#El resultado se imprime en la consola\n",
    "if __name__ == '__main__':\n",
    "    numero = int(input('Ingresa un número: ')) #Le solicitamos al usuario que ingrese un número\n",
    "    print(decimal_to_binary(numero)) #Se convierte el número a entero y se llama a la función decimal_to_binary con el número ingresado"
   ]
  },
  {
   "cell_type": "markdown",
   "metadata": {},
   "source": [
    "###### 2.\tDesarrolle en Python una funci´on que devuelva verdadero si un nu´mero entero que recibe como par´ametro es primo y devuelva falso en el caso contrario."
   ]
  },
  {
   "cell_type": "code",
   "execution_count": 13,
   "metadata": {},
   "outputs": [
    {
     "name": "stdout",
     "output_type": "stream",
     "text": [
      "El numero 29 es primo\n"
     ]
    }
   ],
   "source": [
    "#Primero definimos el método que verifica si un número es primo\n",
    "#La función primo recibe un número entero como argumento\n",
    "def primo(numero):\n",
    "    if numero < 2:  #Si el número es menor a 2, no es primo\n",
    "        return False\n",
    "    #usamos i para iterar sobre los números desde el 2 hasta el número anterior al número ingresado\n",
    "    for i in range(2, numero): #Se itera sobre los números desde el 2 hasta el número anterior al número ingresado\n",
    "        if numero % i == 0: #Si el número es divisible entre i, no es primo.\n",
    "            return False\n",
    "    return True #Si no se cumple la condición anterior, el número es primo\n",
    "#El resultado se imprime en la consola\n",
    "if __name__ == '__main__':\n",
    "    numero = int(input('Ingresa un número: ')) #Le solicitamos al usuario que ingrese un número\n",
    "    if primo(numero):\n",
    "        print(f'El numero {numero} es primo') \n",
    "    else:\n",
    "        print(f'El numero {numero} no es primo')\n"
   ]
  },
  {
   "cell_type": "markdown",
   "metadata": {},
   "source": [
    "###### 3.\tHaga un programa en Python que dada una lista de n nu´meros, calcule la desviaci´on est´andar del conjunto de nu´meros, para este ejercicio no puede utilizar ninguna funci´on que resuelva el problema."
   ]
  },
  {
   "cell_type": "code",
   "execution_count": null,
   "metadata": {},
   "outputs": [
    {
     "name": "stdout",
     "output_type": "stream",
     "text": [
      "Media: 38.666666666666664\n",
      "Varianza: 330.5555555555556\n",
      "Desviación estándar: 18.181186857726193\n"
     ]
    }
   ],
   "source": [
    "#Primero definimos la función que calcula la media, varianza y desviación estándar de una lista de números\n",
    "#La función calculo_media recibe una lista de números como argumento\n",
    "def calculo_media(lista):\n",
    "    return sum(lista) / len(lista) #Se devuelve la suma de los números en la lista dividida entre la cantidad de números en la lista\n",
    "\n",
    "#La función calculo_varianza recibe una lista de números como argumento\n",
    "def calculo_varianza(lista):\n",
    "    media = calculo_media(lista) #Se calcula la media de la lista\n",
    "    #Se resta x - media y se eleva al cuadrado, se suman todas las diferencias y se divide entre la cantidad de números en la lista\n",
    "    return sum((x - media) ** 2 for x in lista) / len(lista) \n",
    "\n",
    "#La función calculo_desviacion_estandar recibe una lista de números como argumento\n",
    "def calculo_desviacion_estandar(lista):\n",
    "    return calculo_varianza(lista) ** 0.5 #Se devuelve la raíz cuadrada de la varianza de la lista\n",
    "\n",
    "#El resultado se imprime en la consola\n",
    "if __name__ == '__main__': \n",
    "    lista = [int(x) for x in input('Ingresa una lista de números separados por espacios: ').split()] #Le solicitamos al usuario que ingrese una lista de números separados por espacios\n",
    "    print(f'Media: {calculo_media(lista)}')\n",
    "    print(f'Varianza: {calculo_varianza(lista)}')\n",
    "    print(f'Desviación estándar: {calculo_desviacion_estandar(lista)}')"
   ]
  },
  {
   "cell_type": "markdown",
   "metadata": {},
   "source": [
    "###### 4.\tDesarrolle en Python una funci´on que dado un arreglo de corra el algoritmo de ordenamiento burbuja y devuelva un nuevo arreglo ordenado. Posteriormente cree una funci´on main para probar su funci´on."
   ]
  },
  {
   "cell_type": "code",
   "execution_count": 29,
   "metadata": {},
   "outputs": [
    {
     "name": "stdout",
     "output_type": "stream",
     "text": [
      "Arreglo original: [4, 7, 2, 8, 4, 65]\n",
      "Arreglo ordenado: [2, 4, 4, 7, 8, 65]\n"
     ]
    }
   ],
   "source": [
    "#Primero definimos la función que ordena un arreglo de números usando el método de la burbuja\n",
    "#La función arreglo_burbuja recibe un arreglo de números como argumento\n",
    "def arreglo_burbuja(arr):\n",
    "    n = len(arr) #Se obtiene la longitud del arreglo\n",
    "    arr_ordenado = arr.copy() #Se crea una copia del arreglo\n",
    "    for i in range(n): #Se itera sobre los elementos del arreglo. i es el índice del elemento actual en el arreglo\n",
    "        for j in range(0, n-i-1): #usamos range(0, n-i-1) para no comparar elementos que ya están ordenados y j es el índice del elemento siguiente al elemento actual\n",
    "            if arr_ordenado[j] > arr_ordenado[j+1]: #Si el elemento actual es mayor al siguiente elemento\n",
    "                arr_ordenado[j], arr_ordenado[j+1] = arr_ordenado[j+1], arr_ordenado[j] #entonces se intercambian los elementos\n",
    "    return arr_ordenado #Se devuelve el arreglo ordenado\n",
    "\n",
    "#Usamos main para probar la función arreglo_burbuja\n",
    "def main():\n",
    "    #Le solicitamos al usuario que ingrese una lista de números separados por espacios\n",
    "    entrada = input(\"Ingrese una lista de números separados por espacios: \")\n",
    "    try: \n",
    "        arreglo = [int(x) for x in entrada.split()] #Se convierte la entrada a una lista de números\n",
    "    #Si se ingresa un valor que no es un número, se imprime un mensaje de error\n",
    "    except ValueError:\n",
    "        print(\"Error: Asegúrese de ingresar solo números separados por espacios.\")\n",
    "        return\n",
    "    #Se imprime el arreglo original y el arreglo ordenado\n",
    "    print(\"Arreglo original:\", arreglo)\n",
    "    arreglo_ordenado = arreglo_burbuja(arreglo)\n",
    "    print(\"Arreglo ordenado:\", arreglo_ordenado)\n",
    "#Se llama a la función main\n",
    "if __name__ == '__main__':\n",
    "    main()"
   ]
  },
  {
   "cell_type": "markdown",
   "metadata": {},
   "source": [
    "###### 5.\tEscriba una funci´on en Python que dada una tupla de elementos (numeros o letras) esta se convierta a un string.\n"
   ]
  },
  {
   "cell_type": "code",
   "execution_count": null,
   "metadata": {},
   "outputs": [
    {
     "name": "stdout",
     "output_type": "stream",
     "text": [
      "Tupla original: ('3', '4', 'f', '1', '7', 'dfg')\n",
      "Valores concatenados: 34f17dfg\n"
     ]
    }
   ],
   "source": [
    "#Primero definimos la función que convierte una tupla de valores en una cadena de texto\n",
    "#La función valores_string recibe una tupla de valores como argumento\n",
    "def valores_string (tuple):\n",
    "    resultado = ''.join(str(elemento) for elemento in tuple) #Se convierte cada elemento de la tupla a cadena de texto y se concatenan\n",
    "    return resultado\n",
    "\n",
    "#Usamos main para probar la función valores_string\n",
    "def main():\n",
    "    entrada = input(\"Ingrese una tupla de valores separados por comas: \") #Le solicitamos al usuario que ingrese una tupla de valores separados por comas\n",
    "    try:\n",
    "        #Se convierte la entrada a una tupla de valores\n",
    "        tupla = tuple(entrada.split(','))\n",
    "    except ValueError:\n",
    "        print(\"Error: Asegúrese de ingresar valores separados por comas.\")\n",
    "        return\n",
    "    #Se imprime la tupla original y los valores concatenados\n",
    "    print(\"Tupla original:\", tupla)\n",
    "    resultado = valores_string(tupla)\n",
    "    print(\"Valores concatenados:\", resultado)\n",
    "#Se llama a la función main\n",
    "if __name__ == '__main__':\n",
    "    main()\n"
   ]
  },
  {
   "cell_type": "markdown",
   "metadata": {},
   "source": [
    "###### 6.\tCree un programa en Python que dada una lista de tuplas, elimine las tuplas que est´an vac´ıas. "
   ]
  },
  {
   "cell_type": "code",
   "execution_count": null,
   "metadata": {},
   "outputs": [
    {
     "name": "stdout",
     "output_type": "stream",
     "text": [
      "Lista de tuplas original: [('4', '2', 'df', '8'), ('23',)]\n",
      "Valores concatenados: [('4', '2', 'df', '8'), '23']\n"
     ]
    }
   ],
   "source": [
    "#Primero valores_string recibe una lista de tuplas como argumento\n",
    "def valores_string (lista_tuplas):\n",
    "    #Se itera sobre las tuplas en la lista y se convierten a cadena de texto\n",
    "    #[expresión for elemento in interable] es una lista de comprensión que crea una lista a partir de los elementos de un iterable\n",
    "    #expresión es lo que se añadirá a la lista, for elemento in interable es el iterable del que se obtendrán los elementos\n",
    "    return [tuple[0] if len(tuple) == 1 else tuple for tuple in lista_tuplas]\n",
    "\n",
    "#Usamos main para probar la función valores_string\n",
    "def main():\n",
    "    entrada = input(\"Ingrese una lista de tuplas separadas por comas: \") #Le solicitamos al usuario que ingrese una lista de tuplas separadas por comas\n",
    "    try:\n",
    "        #Se convierte la entrada a una lista de tuplas\n",
    "        lista_tuplas = [] #Se inicializa una lista vacía\n",
    "        for tupla_str in entrada.split(): #Se itera sobre las tuplas en la entrada\n",
    "            elementos = tupla_str.strip('()').split(',') #Se eliminan los paréntesis y se separan los elementos por comas\n",
    "            #elem.strip() elimina los espacios en blanco al principio y al final de elem\n",
    "            elementos = [elem.strip() for elem in elementos if elem.strip()] \n",
    "            lista_tuplas.append(tuple(elementos)) #Se añade la tupla a la lista de tuplas\n",
    "    #Si se ingresa un valor que no es una tupla, se imprime un mensaje de error\n",
    "    except ValueError:\n",
    "        print(\"Error: Asegúrese de ingresar tuplas separadas por comas.\")\n",
    "        return\n",
    "    #Se imprime la lista de tuplas original y los valores concatenados\n",
    "    print(\"Lista de tuplas original:\", lista_tuplas)\n",
    "    resultado = valores_string(lista_tuplas)\n",
    "    print(\"Valores concatenados:\", resultado)\n",
    "#Se llama a la función main\n",
    "if __name__ == '__main__':\n",
    "    main()"
   ]
  },
  {
   "cell_type": "markdown",
   "metadata": {},
   "source": [
    "###### 7.\tCree una funci´on en Python que dada una tupla de tuplas con numeros, produzca una tupla con el promedio de cada tupla individual.\n"
   ]
  },
  {
   "cell_type": "code",
   "execution_count": null,
   "metadata": {},
   "outputs": [
    {
     "name": "stdout",
     "output_type": "stream",
     "text": [
      "Lista de tuplas original: [(3, 2, 7, 5, 4)]\n",
      "Promedio de las tuplas: [4.2]\n"
     ]
    }
   ],
   "source": [
    "#Primero definimos la función que calcula el promedio de una lista de tuplas\n",
    "#La función promedio_tuplas recibe una lista de tuplas como argumento\n",
    "def promedio_tuplas(lista_tuplas):\n",
    "    #Suma los elementos de cada tupla y divide entre la cantidad de elementos en la tupla\n",
    "    return [sum(tupla) / len(tupla) for tupla in lista_tuplas]\n",
    "\n",
    "#Usamos main para probar la función promedio_tuplas\n",
    "def main():\n",
    "    #Le solicitamos al usuario que ingrese una lista de tuplas separadas por comas\n",
    "    entrada = input(\"Ingrese una lista de tuplas separadas por comas: \")\n",
    "    try:\n",
    "        #Se convierte la entrada a una lista de tuplas\n",
    "        lista_tuplas = [] #Se inicializa una lista vacía\n",
    "        for tupla_str in entrada.split(): #tupla_str in entrada.split() itera sobre las tuplas en la entrada\n",
    "            #elementos es una lista de elementos en la tupla\n",
    "            elementos = tupla_str.strip('()').split(',') #Se eliminan los paréntesis y se separan los elementos por comas\n",
    "            #elem.strip() elimina los espacios en blanco al principio y al final de elem\n",
    "            elementos = [int(elem.strip()) for elem in elementos if elem.strip()] \n",
    "            lista_tuplas.append(tuple(elementos)) #Se añade la tupla a la lista de tuplas\n",
    "    #Si se ingresa un valor que no es una tupla, se imprime un mensaje de error\n",
    "    except ValueError:\n",
    "        print(\"Error: Asegúrese de ingresar tuplas separadas por comas.\")\n",
    "        return\n",
    "    #Se imprime la lista de tuplas original y los valores concatenados\n",
    "    print(\"Lista de tuplas original:\", lista_tuplas)\n",
    "    resultado = promedio_tuplas(lista_tuplas)\n",
    "    print(\"Promedio de las tuplas:\", resultado)\n",
    "\n",
    "if __name__ == '__main__':\n",
    "    main()\n"
   ]
  },
  {
   "cell_type": "markdown",
   "metadata": {},
   "source": [
    "###### 8.\tEl objetivo es crear una representaci´on de un libro usando programaci´on orientada a objetos. Debes definir una clase llamada Libro que tenga atributos como el t´ıtulo, el autor, el nu´mero de p´aginas y un indicador de si el libro ha sido le´ıdo o no. "
   ]
  },
  {
   "cell_type": "code",
   "execution_count": null,
   "metadata": {},
   "outputs": [
    {
     "name": "stdout",
     "output_type": "stream",
     "text": [
      "Has leído efgdfg\n",
      "efgdfg by dfgdfg, 56 páginas, leído\n"
     ]
    }
   ],
   "source": [
    "#Usamos Class para definir el objeto Libro\n",
    "#La clase Libro tiene los atributos título, autor, páginas y leído\n",
    "class Libro:\n",
    "    def __init__(self, titulo, autor, paginas):\n",
    "        #se usa self para referirse a los atributos de la instancia de la clase\n",
    "        self.titulo = titulo\n",
    "        self.autor = autor\n",
    "        self.paginas = paginas\n",
    "        self.leido = False\n",
    "\n",
    "    #El método leido_o_no cambia el atributo leido a True\n",
    "    def leido_o_no(self):\n",
    "        self.leido = True\n",
    "        print(f'Has leído {self.titulo}')\n",
    "    \n",
    "    #El método descripcion devuelve una cadena de texto con el título, autor, páginas y estado del libro\n",
    "    def descripcion(self):\n",
    "        estado = 'leído' if self.leido else 'no leído'\n",
    "        return f'{self.titulo} by {self.autor}, {self.paginas} páginas, {estado}'\n",
    "\n",
    "#Usamos main para probar la clase Libro  \n",
    "def main():\n",
    "    #Le solicitamos al usuario que ingrese el título, autor y número de páginas del libro separados por comas\n",
    "    entrada = input(\"Ingrese el título, autor y número de páginas del libro separados por comas: \")\n",
    "    #Se intenta crear un objeto Libro con los datos ingresados\n",
    "    try:\n",
    "        titulo, autor, paginas = entrada.split(',')\n",
    "        libro = Libro(titulo.strip(), autor.strip(), int(paginas.strip()))\n",
    "    #Si se ingresa un valor que no es un número, se imprime un mensaje de error\n",
    "    except ValueError:\n",
    "        print(\"Error: Asegúrese de ingresar el título, autor y número de páginas separados por comas.\")\n",
    "    #Se le pregunta al usuario si ha leído el libro y se llama al método leido_o_no si la respuesta es 's'\n",
    "    leido = input(\"¿Has leído este libro? (s/n): \")\n",
    "    #Si la respuesta es 's', se llama al método leido_o_no\n",
    "    if leido == 's':\n",
    "        libro.leido_o_no()\n",
    "    print(libro.descripcion())\n",
    "\n",
    "#Se llama a la función main\n",
    "if __name__ == '__main__':\n",
    "    main()"
   ]
  },
  {
   "cell_type": "markdown",
   "metadata": {},
   "source": [
    "###### 9.\tCree una clase llamada Circulo con un atributo para el radio del c´ırculo. "
   ]
  },
  {
   "cell_type": "code",
   "execution_count": null,
   "metadata": {},
   "outputs": [
    {
     "name": "stdout",
     "output_type": "stream",
     "text": [
      "Área: 6361.74\n",
      "Perímetro: 282.74399999999997\n"
     ]
    }
   ],
   "source": [
    "#Usamos Class para definir el objeto circulo\n",
    "#La clase circulo tiene el atributo radio\n",
    "class circulo:\n",
    "    #El método __init__ inicializa el objeto circulo con el radio ingresado\n",
    "    def __init__(self, radio):\n",
    "        self.radio = radio #Se inicializa el atributo radio con el radio ingresado\n",
    "    \n",
    "    #El método area devuelve el área del círculo\n",
    "    def area(self):\n",
    "        return 3.1416 * self.radio ** 2 #multiplicamos pi por el radio al cuadrado\n",
    "    \n",
    "    #El método perimetro devuelve el perímetro del círculo\n",
    "    def perimetro(self):\n",
    "        return 2 * 3.1416 * self.radio #multiplicamos 2 por pi por el radio\n",
    "    \n",
    "#Usamos main para probar la clase circulo\n",
    "def main():\n",
    "        #Le solicitamos al usuario que ingrese el radio del círculo, usamos float para convertir el radio a un número decimal\n",
    "        radio = float(input(\"Ingrese el radio del círculo: \"))\n",
    "        #Se crea un objeto circulo con el radio ingresado\n",
    "        c = circulo(radio)\n",
    "        #Se imprime el área y el perímetro del círculo\n",
    "        print(f'Área: {c.area()}')\n",
    "        print(f'Perímetro: {c.perimetro()}')\n",
    "\n",
    "#Se llama a la función main\n",
    "if __name__ == '__main__':\n",
    "    main()\n"
   ]
  },
  {
   "cell_type": "markdown",
   "metadata": {},
   "source": [
    "###### "
   ]
  }
 ],
 "metadata": {
  "kernelspec": {
   "display_name": "venv_dsp_a",
   "language": "python",
   "name": "python3"
  },
  "language_info": {
   "codemirror_mode": {
    "name": "ipython",
    "version": 3
   },
   "file_extension": ".py",
   "mimetype": "text/x-python",
   "name": "python",
   "nbconvert_exporter": "python",
   "pygments_lexer": "ipython3",
   "version": "3.12.9"
  }
 },
 "nbformat": 4,
 "nbformat_minor": 2
}
